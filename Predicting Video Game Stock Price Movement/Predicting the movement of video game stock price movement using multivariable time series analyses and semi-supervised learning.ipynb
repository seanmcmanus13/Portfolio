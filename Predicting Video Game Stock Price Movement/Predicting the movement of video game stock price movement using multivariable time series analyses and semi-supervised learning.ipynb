{
 "cells": [
  {
   "cell_type": "markdown",
   "metadata": {},
   "source": [
    "# Predicting the movement of video game stock price movement using multivariable time series analyses and semi-supervised learning\n",
    "## Introduction:\n",
    "Prediction of stock price movement is a notoriously difficult problem. The price of stocks depend on a multitude of complex variables. They tend to be a product of future projections but they also depend on near term events. Unexpected moves often introduce volatility and accordingly, stock price trends assume the patterns of stochastic processes. Nonetheless, many people make a living out of making strategic predictions on stock price movement. Usually, the individuals who are successful in this regard usually have some intrinsic knowledge or insight into the business or the larger economy that isn’t widely available or due to sheer luck. For the purpose’s of this introduction let’s refer to this intrinsic knowledge or insight as ‘hidden information’. This project aims to utilize publically available data to uncover hidden information that may inform video  game stock price movement.\n",
    "\n",
    "It is important to first explore the base case for ownership of video game stocks, as most informed stock trading strategy should account for the potential ownership of the underlying security. Here are some key reasons to believe the video game industry should see continued growth and expansion:\n",
    "- Highly profitable businesses\n",
    "- Produce a product that is extremely sticky (read: addictive)\n",
    "- Companies have a considerable moat due to the increasing cost in producing Triple AAA games\n",
    "- Overall market expected to increase at an annual rate of about 5-6% until 2021.\n",
    "\n",
    "The first critical question in this regard is where can one derive hidden information that may inform the movement of video game stocks. It is of note that,  games that are produced by these companies are increasingly played in the public realm thanks in part to the advent of modern streaming platforms like Youtube and Twitch. The games also enjoy significant coverage and discussion in public forums like Twitter.These stocks are one of the first, where the use of the companies product can be estimated, if not accurately tracked, in real time. I suspect that this offers an opportunity to make informed decisions on ownership and trading of these companies and further to this, probably impacts the price behavior of these stocks.\n",
    "\n",
    "<img src=\"twitchtrends.png\">\n",
    "Fig 1: Games are increasingly being played and tracked online. This may be a lucrative trove for informed investors.\n",
    "\n",
    "This capstone will focus on predicting the price action of video game stocks based on time series analyses of both online streaming data and derived financial indictors. Due to the provenance of large amounts of data in both of these domains, we will initially build a model on one indicator company and see if this model can be applied to other companies, first without reteaching based on that model and if required, with reteaching. Below are some companies of interest that will be explored:\n",
    "\n",
    "<h1><center> Companies of interest: </center></h1>\n",
    "\n",
    "| Company     | Market Cap (in $, rounded) | Country of Origin         |\n",
    "|-------------|----------------------------|---------------------------|\n",
    "| EA          | 28 Billion                 | US                        |\n",
    "| Take Two    | 11 Billion                 | US                        |\n",
    "| Activision  | 36 Billion                 | US                        |\n",
    "| Ubisoft     | 9 Billion                  | France/Operates worldwide |\n",
    "| Square Enix | 4 Billion                  | Japan                     |\n",
    "| Nintendo    | 45 Billion                 | Japan                     |\n",
    "| Konami      | 7 Billion                  | Japan                     |\n",
    "| Capcom      | 3 Billion                  | Japan                     |\n",
    "\n",
    "\n",
    "From this list, Activision is a fairly representative company. So let's start by modelling and generating our features for this company. The features used will be consistent across all companies.\n",
    "\n",
    "\n",
    "## Data:\n",
    "\n",
    "The historical stock price data will be accessed using pandas datareader functionality. The streaming data was scraped by monitoring network traffic from sullygnome.com and pulling the resultant json files. The json files were then munged to pull the data from the files.\n",
    "\n",
    "Fromt these data sources a number of features will be generated. Including rolling averages of viewer data. As streaming viewership tends to peak on the weekend, while the stock market exchanges are closed, generating rolling averages of the data is a neccesity as it will allow us to generate features for the streaming data that include weekend streaming data\n",
    "\n",
    "All other features will be manually generated using mathematically formula previously described in the literature [1]. A selection fo these features are displayed below:\n",
    "\n",
    "\n",
    "<img src=\"variables.jpg\">\n",
    "\n",
    "\n",
    "## Value:\n",
    "The purpose of the model(s) that will be generated are to a) forecast future stock price and b) classify next day directional price movement.\n",
    "This will be undertaken by integrating real data streaming data analytics, financial indicators and recursive pattern detection on stock price movement. Accordingly, the only use of the model is to predict stock price movement. The utility of that it is a means to either arbitrage the stock price to make money or to reduce risk and improve stock price basis of long term holdings. It would also have utility to video game makers for financial planning of their core business.\n",
    "\n",
    "## Techniques employed:\n",
    "Scraping (via direct monitoring of network traffic and pulling the files transferred)\n",
    "Cleaning\n",
    "Feature engineering (complex time series features beyond the scope of what was presented in Thinkful's Time Series Chapter).\n",
    "Time Series Analyses, Supervised, unsupervised and semi-supervised learning approaches (ARIMA, Random Forest, Recurrent Neural Networks and  LSTM)\n",
    "\n",
    "## Challenges:\n",
    "This is a complex and notoriously difficult problem to attempt. The most difficult part of this project will be deriving features that inform the movement of the stock. The time series analyses and features derived in a study by Khaidem et al [1] will be used as a first port of call in order to address this.\n",
    "\n",
    "## References:\n",
    "1. https://arxiv.org/abs/1605.00003"
   ]
  },
  {
   "cell_type": "code",
   "execution_count": null,
   "metadata": {},
   "outputs": [],
   "source": []
  }
 ],
 "metadata": {
  "kernelspec": {
   "display_name": "Python 3",
   "language": "python",
   "name": "python3"
  },
  "language_info": {
   "codemirror_mode": {
    "name": "ipython",
    "version": 3
   },
   "file_extension": ".py",
   "mimetype": "text/x-python",
   "name": "python",
   "nbconvert_exporter": "python",
   "pygments_lexer": "ipython3",
   "version": "3.6.8"
  }
 },
 "nbformat": 4,
 "nbformat_minor": 2
}
